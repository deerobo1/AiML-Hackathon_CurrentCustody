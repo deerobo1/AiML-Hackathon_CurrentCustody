{
 "cells": [
  {
   "cell_type": "code",
   "execution_count": null,
   "metadata": {
    "colab": {
     "base_uri": "https://localhost:8080/",
     "height": 399
    },
    "id": "p4Jpf6LI6SSa",
    "outputId": "ad00b7da-dae2-4b71-ddf4-e7f32856103b"
   },
   "outputs": [],
   "source": [
    "import pandas as pd\n",
    "import numpy as np\n",
    "\n",
    "url = \"https://raw.githubusercontent.com/sharad00004/AI-ML-HACKATHON-Datasets/main/electricity_bill_dataset.csv\"\n",
    "df = pd.read_csv(url)\n",
    "df.head()"
   ]
  },
  {
   "cell_type": "markdown",
   "metadata": {
    "id": "qciOhC6K_QV0"
   },
   "source": [
    "# DATA PRE-PROCESSING"
   ]
  },
  {
   "cell_type": "markdown",
   "metadata": {
    "id": "lSh0PnQI_NQO"
   },
   "source": [
    "Checking for NULL values"
   ]
  },
  {
   "cell_type": "code",
   "execution_count": null,
   "metadata": {
    "colab": {
     "base_uri": "https://localhost:8080/",
     "height": 460
    },
    "id": "Btu4c7b66XRR",
    "outputId": "3ff69f0e-6041-46e0-f5fc-e474a713a2fc"
   },
   "outputs": [],
   "source": [
    "df.isnull().sum()"
   ]
  },
  {
   "cell_type": "markdown",
   "metadata": {
    "id": "8RacDB5-_YQG"
   },
   "source": [
    "Checking for duplicates"
   ]
  },
  {
   "cell_type": "code",
   "execution_count": null,
   "metadata": {
    "colab": {
     "base_uri": "https://localhost:8080/"
    },
    "id": "A_1DtLoL_LLH",
    "outputId": "60df9ceb-ca46-4656-d6c9-045b00ada480"
   },
   "outputs": [],
   "source": [
    "df.duplicated().sum()"
   ]
  },
  {
   "cell_type": "markdown",
   "metadata": {
    "id": "gegabxcyJZrU"
   },
   "source": [
    "# Data Visualization"
   ]
  },
  {
   "cell_type": "code",
   "execution_count": null,
   "metadata": {
    "colab": {
     "base_uri": "https://localhost:8080/",
     "height": 612
    },
    "id": "WYE4WgoLJdEY",
    "outputId": "3ae3150d-dd10-40ac-96de-b84664c7f634"
   },
   "outputs": [],
   "source": [
    "import matplotlib.pyplot as plt\n",
    "import seaborn as sns\n",
    "\n",
    "appliances = ['Fan', 'Refrigerator', 'AirConditioner', 'Television', 'Monitor', 'MotorPump']\n",
    "df[appliances].hist(bins=15, figsize=(12, 8), layout=(2, 3))\n",
    "plt.suptitle('Distribution of Appliance Counts (Raw Features)')\n",
    "plt.tight_layout()\n",
    "plt.show()"
   ]
  },
  {
   "cell_type": "code",
   "execution_count": null,
   "metadata": {
    "colab": {
     "base_uri": "https://localhost:8080/",
     "height": 479
    },
    "id": "Hq_ayMXFNTPT",
    "outputId": "b9ba4177-cb56-4ca0-d653-c1aecd27dbed"
   },
   "outputs": [],
   "source": [
    "plt.figure(figsize=(12, 5))\n",
    "sns.boxplot(data=df, x='City', y='ElectricityBill')\n",
    "plt.title('Electricity Bill Distribution by City')\n",
    "plt.xticks(rotation=45)\n",
    "plt.show()"
   ]
  },
  {
   "cell_type": "code",
   "execution_count": null,
   "metadata": {
    "colab": {
     "base_uri": "https://localhost:8080/",
     "height": 485
    },
    "id": "6hEjfNC7NX0d",
    "outputId": "1e4b2336-2d8a-469a-a6e2-aa34c170f9f2"
   },
   "outputs": [],
   "source": [
    "plt.figure(figsize=(10, 5))\n",
    "sns.boxplot(data=df, x='Month', y='ElectricityBill')\n",
    "plt.title('Monthly Electricity Bill Trend')\n",
    "plt.xlabel('Month')\n",
    "plt.ylabel('Electricity Bill')\n",
    "plt.show()"
   ]
  },
  {
   "cell_type": "code",
   "execution_count": null,
   "metadata": {
    "colab": {
     "base_uri": "https://localhost:8080/",
     "height": 206
    },
    "id": "7120119d",
    "outputId": "da57b1ef-73a5-40d2-9d47-89c750cc9685"
   },
   "outputs": [],
   "source": [
    "# Calculate the average electricity bill per city\n",
    "city_avg = df.groupby('City')['ElectricityBill'].mean().reset_index()\n",
    "city_avg.rename(columns={'ElectricityBill': 'AvgElectricityBill'}, inplace=True)\n",
    "\n",
    "# Display the calculated averages\n",
    "display(city_avg.head())"
   ]
  },
  {
   "cell_type": "code",
   "execution_count": null,
   "metadata": {
    "colab": {
     "base_uri": "https://localhost:8080/",
     "height": 776
    },
    "id": "ZMGyPue8NZX7",
    "outputId": "188ebcc4-f375-401e-d9d8-f6d6048e9e7b"
   },
   "outputs": [],
   "source": [
    "import pandas as pd\n",
    "import plotly.express as px\n",
    "import plotly.graph_objects as go\n",
    "import json\n",
    "\n",
    "# Loading GeoJSON\n",
    "with open(\"/content/states_india.geojson\", \"r\") as f:\n",
    "    india_states = json.load(f)\n",
    "\n",
    "# Extract all state names from geojson\n",
    "all_states = [feature['properties']['st_nm'] for feature in india_states['features']]\n",
    "full_state_df = pd.DataFrame({'State': all_states})\n",
    "\n",
    "# city → state mapping\n",
    "city_to_state = {\n",
    "    'Hyderabad': 'Telangana',\n",
    "    'Vadodara': 'Gujarat',\n",
    "    'Shimla': 'Himachal Pradesh',\n",
    "    'Mumbai': 'Maharashtra',\n",
    "    'Ratnagiri': 'Maharashtra',\n",
    "    'New Delhi': 'Delhi',\n",
    "    'Dahej': 'Gujarat',\n",
    "    'Ahmedabad': 'Gujarat',\n",
    "    'Noida': 'Uttar Pradesh',\n",
    "    'Nagpur': 'Maharashtra',\n",
    "    'Chennai': 'Tamil Nadu',\n",
    "    'Faridabad': 'Haryana',\n",
    "    'Kolkata': 'West Bengal',\n",
    "    'Pune': 'Maharashtra',\n",
    "    'Gurgaon': 'Haryana',\n",
    "    'Navi Mumbai': 'Maharashtra'\n",
    "}\n",
    "\n",
    "# Map city to state (assuming df is your original dataframe with City and ElectricityBill columns)\n",
    "df['State'] = df['City'].map(city_to_state)\n",
    "\n",
    "#Group by state to compute average electricity bill\n",
    "state_avg = df.groupby('State')['ElectricityBill'].mean().reset_index()\n",
    "state_avg.columns = ['State', 'AvgElectricityBill']\n",
    "\n",
    "#Merge with full list of states\n",
    "merged_df = full_state_df.merge(state_avg, on='State', how='left')\n",
    "\n",
    "#Fill NaN values with 0 for states without data\n",
    "merged_df['AvgElectricityBill'] = merged_df['AvgElectricityBill'].fillna(0)\n",
    "\n",
    "# Create a status column to differentiate between states with and without data\n",
    "merged_df['HasData'] = merged_df['AvgElectricityBill'] > 0\n",
    "\n",
    "# Create custom hover text\n",
    "merged_df['HoverText'] = merged_df.apply(\n",
    "    lambda row: f\"{row['State']}<br>Avg Bill: ₹{row['AvgElectricityBill']:.2f}\"\n",
    "    if row['HasData'] else f\"{row['State']}<br>No data available\",\n",
    "    axis=1\n",
    ")\n",
    "\n",
    "#Create the choropleth map\n",
    "fig = go.Figure()\n",
    "\n",
    "#Add states with data\n",
    "states_with_data = merged_df[merged_df['HasData']]\n",
    "if not states_with_data.empty:\n",
    "    fig.add_trace(go.Choropleth(\n",
    "        geojson=india_states,\n",
    "        featureidkey=\"properties.st_nm\",\n",
    "        locations=states_with_data['State'],\n",
    "        z=states_with_data['AvgElectricityBill'],\n",
    "        colorscale=\"YlOrRd\",\n",
    "        showscale=True,\n",
    "        colorbar=dict(title=\"Avg Electricity Bill (₹)\"),\n",
    "        hovertemplate=\"%{hovertext}<extra></extra>\",\n",
    "        hovertext=states_with_data['HoverText'],\n",
    "        marker_line_color='black',\n",
    "        marker_line_width=0.6,\n",
    "        name=\"States with Data\"\n",
    "    ))\n",
    "\n",
    "#Add states without data (gray)\n",
    "states_without_data = merged_df[~merged_df['HasData']]\n",
    "if not states_without_data.empty:\n",
    "    fig.add_trace(go.Choropleth(\n",
    "        geojson=india_states,\n",
    "        featureidkey=\"properties.st_nm\",\n",
    "        locations=states_without_data['State'],\n",
    "        z=[1] * len(states_without_data),  # Use constant value for gray coloring\n",
    "        colorscale=[[0, 'lightgray'], [1, 'lightgray']],\n",
    "        showscale=False,\n",
    "        hovertemplate=\"%{hovertext}<extra></extra>\",\n",
    "        hovertext=states_without_data['HoverText'],\n",
    "        marker_line_color='black',\n",
    "        marker_line_width=0.6,\n",
    "        name=\"States without Data\"\n",
    "    ))\n",
    "\n",
    "# Update layout\n",
    "fig.update_geos(\n",
    "    fitbounds=\"locations\",\n",
    "    visible=False,\n",
    "    projection_type=\"natural earth\"\n",
    ")\n",
    "\n",
    "fig.update_layout(\n",
    "    title={\n",
    "        'text': \"Average Electricity Bill by Indian State\",\n",
    "        'x': 0.5,\n",
    "        'xanchor': 'center',\n",
    "        'font': {'size': 16}\n",
    "    },\n",
    "    margin={\"r\": 0, \"t\": 60, \"l\": 0, \"b\": 0},\n",
    "    showlegend=False,\n",
    "    width=800,\n",
    "    height=600\n",
    ")\n",
    "\n",
    "fig.show()\n",
    "\n",
    "# Optional: Print summary statistics\n",
    "print(\"Summary Statistics:\")\n",
    "print(f\"Total states in India: {len(all_states)}\")\n",
    "print(f\"States with data: {len(states_with_data)}\")\n",
    "print(f\"States without data: {len(states_without_data)}\")\n",
    "print(f\"\\nStates with data: {', '.join(states_with_data['State'].tolist())}\")\n",
    "print(f\"\\nStates without data: {', '.join(states_without_data['State'].tolist())}\")\n",
    "\n",
    "# Alternative approach using plotly express with custom color handling\n",
    "# This is a simpler approach if you prefer px over go\n",
    "\n",
    "def create_map_with_px():\n",
    "    # Create a copy for PX approach\n",
    "    merged_df_px = merged_df.copy()\n",
    "\n",
    "    # Set a minimum value for visualization (states without data will show as this minimum)\n",
    "    min_bill = merged_df_px[merged_df_px['AvgElectricityBill'] > 0]['AvgElectricityBill'].min()\n",
    "    merged_df_px.loc[merged_df_px['AvgElectricityBill'] == 0, 'AvgElectricityBill'] = min_bill * 0.1\n",
    "\n",
    "    # Create custom color scale that makes the minimum value gray\n",
    "    fig_px = px.choropleth(\n",
    "        merged_df_px,\n",
    "        geojson=india_states,\n",
    "        featureidkey=\"properties.st_nm\",\n",
    "        locations='State',\n",
    "        color='AvgElectricityBill',\n",
    "        color_continuous_scale=[(0, 'lightgray'), (0.1, 'lightgray'), (0.1, '#FFF5F0'), (1, '#8B0000')],\n",
    "        title=\"Average Electricity Bill by Indian State (Alternative Approach)\",\n",
    "        hover_name='State',\n",
    "        hover_data={'AvgElectricityBill': ':,.2f'}\n",
    "    )\n",
    "\n",
    "    fig_px.update_geos(fitbounds=\"locations\", visible=False)\n",
    "    fig_px.update_traces(marker_line_width=0.6, marker_line_color='black')\n",
    "    fig_px.update_layout(margin={\"r\": 0, \"t\": 50, \"l\": 0, \"b\": 0})\n",
    "\n",
    "    return fig_px\n",
    "\n",
    "# Uncomment the line below to see the alternative approach\n",
    "# create_map_with_px().show()"
   ]
  },
  {
   "cell_type": "markdown",
   "metadata": {
    "id": "F0tgO4Y__r_-"
   },
   "source": [
    "## Hot One Encoding\n",
    "\n"
   ]
  },
  {
   "cell_type": "code",
   "execution_count": null,
   "metadata": {
    "colab": {
     "base_uri": "https://localhost:8080/",
     "height": 399
    },
    "id": "rT-RrMmW_nWw",
    "outputId": "83b2eda5-d96a-4884-c200-63dd6807fb4e"
   },
   "outputs": [],
   "source": [
    "df.head()"
   ]
  },
  {
   "cell_type": "markdown",
   "metadata": {
    "id": "lGJPnOX9AZ8h"
   },
   "source": [
    "# Feature Engineering"
   ]
  },
  {
   "cell_type": "code",
   "execution_count": null,
   "metadata": {
    "id": "Lih27ASX_onR"
   },
   "outputs": [],
   "source": [
    "# Total number of appliances\n",
    "df['TotalAppliances'] = df[['Fan', 'Refrigerator', 'AirConditioner', 'Television', 'Monitor', 'MotorPump']].sum(axis=1)\n",
    "\n",
    "# Cooling load: Fan + AirConditioner\n",
    "df['CoolingLoad'] = df['Fan'] + df['AirConditioner']\n",
    "\n",
    "# Entertainment load: Television + Monitor\n",
    "df['EntertainmentLoad'] = df['Television'] + df['Monitor']\n",
    "\n",
    "# Essential appliances: Refrigerator + MotorPump\n",
    "df['EssentialLoad'] = df['Refrigerator'] + df['MotorPump']\n"
   ]
  },
  {
   "cell_type": "code",
   "execution_count": null,
   "metadata": {
    "id": "Xl-j2C7AFl9H"
   },
   "outputs": [],
   "source": [
    "df['Month_sin'] = np.sin(2 * np.pi * df['Month'] / 12)\n",
    "df['Month_cos'] = np.cos(2 * np.pi * df['Month'] / 12)\n",
    "#using this encoding so that ML model understands that Jan and Dec are closer and does not give any preference to any month based on numbers"
   ]
  },
  {
   "cell_type": "markdown",
   "metadata": {
    "id": "GZm9X71xlZSa"
   },
   "source": [
    "Data Visualisation after feature engineering"
   ]
  },
  {
   "cell_type": "code",
   "execution_count": null,
   "metadata": {
    "colab": {
     "base_uri": "https://localhost:8080/",
     "height": 417
    },
    "id": "QcM51hCml9ES",
    "outputId": "173798eb-cc19-4af7-a3d3-607ca6875922"
   },
   "outputs": [],
   "source": [
    "df.head()"
   ]
  },
  {
   "cell_type": "code",
   "execution_count": null,
   "metadata": {
    "colab": {
     "base_uri": "https://localhost:8080/"
    },
    "id": "FetvV-jH4mdJ",
    "outputId": "fb225572-129b-4589-ff6a-2a800c649c87"
   },
   "outputs": [],
   "source": [
    "print(df.info())"
   ]
  },
  {
   "cell_type": "code",
   "execution_count": null,
   "metadata": {
    "colab": {
     "base_uri": "https://localhost:8080/",
     "height": 557
    },
    "id": "paBxQneB5wFJ",
    "outputId": "2d70fe03-6b06-4cfa-8886-cf80a2f8f604"
   },
   "outputs": [],
   "source": [
    "import seaborn as sns\n",
    "import matplotlib.pyplot as plt\n",
    "#plot between the distribution of electricity bills across range of money\n",
    "\n",
    "sns.histplot(df['ElectricityBill'],bins=50,kde=True,color='Purple',edgecolor='black')\n",
    "plt.title('Distribution of Electricity bills across money range')\n",
    "plt.xlabel('Bill Amount')\n",
    "plt.ylabel('Frequency')\n",
    "plt.grid(True)\n",
    "plt.tight_layout()\n",
    "plt.show()"
   ]
  },
  {
   "cell_type": "code",
   "execution_count": null,
   "metadata": {
    "colab": {
     "base_uri": "https://localhost:8080/",
     "height": 524
    },
    "id": "UpQoz9907cyT",
    "outputId": "edf2d611-bb5f-41b1-d091-ce85ad1a43cd"
   },
   "outputs": [],
   "source": [
    "#plot :Electricity bill vs total appliances\n",
    "sns.scatterplot(data=df,x='TotalAppliances',y='ElectricityBill',hue='CoolingLoad',palette='coolwarm')\n",
    "plt.title('Bill  vs Total Appliances')\n",
    "plt.xlabel('Total Appliances')\n",
    "plt.ylabel('Electricity Bill')\n",
    "\n",
    "plt.show()"
   ]
  },
  {
   "cell_type": "code",
   "execution_count": null,
   "metadata": {
    "colab": {
     "base_uri": "https://localhost:8080/",
     "height": 524
    },
    "id": "MW7X4-2i8Sh4",
    "outputId": "e4e7ea48-21a1-4bd2-bb82-6e790e9c7d41"
   },
   "outputs": [],
   "source": [
    "#electricity bill monthwise\n",
    "sns.boxplot(x='Month',y='ElectricityBill',data=df,palette='Spectral')\n",
    "plt.title('Electricity Bill over the months')\n",
    "plt.xlabel('Month(1-Jan,12-Dec)')\n",
    "plt.ylabel('Bill amount')\n",
    "plt.show()"
   ]
  },
  {
   "cell_type": "code",
   "execution_count": null,
   "metadata": {
    "colab": {
     "base_uri": "https://localhost:8080/",
     "height": 524
    },
    "id": "hMDbk6sG-NWI",
    "outputId": "ac4f9de8-04c1-4043-a5d1-3ff743ccda45"
   },
   "outputs": [],
   "source": [
    "#average bill per city(top 10)\n",
    "# The 'City' column already exists before one-hot encoding, so we can use it directly.\n",
    "city_avg= df.groupby('City')['ElectricityBill'].mean().sort_values(ascending=False).head(10)\n",
    "\n",
    "sns.barplot(x=city_avg.values,y=city_avg.index,palette='viridis')\n",
    "plt.title('Average electricity bill per city(Top 10)')\n",
    "plt.xlabel(\"Average Bill\")\n",
    "plt.ylabel('City')\n",
    "plt.show()"
   ]
  },
  {
   "cell_type": "code",
   "execution_count": null,
   "metadata": {
    "colab": {
     "base_uri": "https://localhost:8080/",
     "height": 524
    },
    "id": "3Ye_Ec2CBGw1",
    "outputId": "1846fd10-053c-4bed-b18b-260ec1f91f25"
   },
   "outputs": [],
   "source": [
    "monthly_avg=df.groupby('Month')['ElectricityBill'].mean()\n",
    "\n",
    "sns.lineplot(x=monthly_avg.index,y=monthly_avg.values,marker='o',color='#16A085',linewidth=3)\n",
    "plt.xlabel('Month')\n",
    "plt.ylabel('Avg bill')\n",
    "plt.title('Average electricity bill by month')\n",
    "plt.xticks(ticks=range(1,13),labels=['Jan','Feb','Mar','Apr','May','Jun','Jul','Aug','Sep','Oct','Nov','Dec'])\n",
    "\n",
    "plt.show()"
   ]
  },
  {
   "cell_type": "markdown",
   "metadata": {
    "id": "-bFc0_InMqGA"
   },
   "source": [
    "# Training the model"
   ]
  },
  {
   "cell_type": "code",
   "execution_count": null,
   "metadata": {
    "colab": {
     "base_uri": "https://localhost:8080/",
     "height": 417
    },
    "id": "_yoDm3xLOe7z",
    "outputId": "924d6454-c4f5-4e45-aeb7-2180481b2151"
   },
   "outputs": [],
   "source": [
    "df.head()"
   ]
  },
  {
   "cell_type": "code",
   "execution_count": null,
   "metadata": {
    "id": "0Xpqzg-V4UIp"
   },
   "outputs": [],
   "source": [
    "# One-hot encoding City,Company and State columns\n",
    "df = pd.get_dummies(df, columns=['City', 'Company','State'], drop_first=True)\n",
    "df[df.select_dtypes('bool').columns] = df.select_dtypes('bool').astype(int)"
   ]
  },
  {
   "cell_type": "code",
   "execution_count": null,
   "metadata": {
    "colab": {
     "base_uri": "https://localhost:8080/"
    },
    "id": "u1aLrds3PFpq",
    "outputId": "513a2b8e-f6d7-43da-bf61-5ca2d13beb81"
   },
   "outputs": [],
   "source": [
    "\n",
    "df.info()"
   ]
  },
  {
   "cell_type": "code",
   "execution_count": null,
   "metadata": {
    "id": "B1g7XvxHP4QZ"
   },
   "outputs": [],
   "source": [
    "#separating the target variable form the rest of the table\n",
    "X=df.drop('ElectricityBill',axis=1)\n",
    "y=df['ElectricityBill']"
   ]
  },
  {
   "cell_type": "code",
   "execution_count": null,
   "metadata": {
    "id": "7uwG-l0hRJBQ"
   },
   "outputs": [],
   "source": [
    "#training ,testing and splitting the dataset for trainig the models\n",
    "from sklearn.model_selection import train_test_split\n",
    "X_train,X_test,y_train,y_test=train_test_split(X,y,random_state=0)"
   ]
  },
  {
   "cell_type": "markdown",
   "metadata": {
    "id": "BXh1KiZhOWab"
   },
   "source": [
    "Model1:Linear Regression"
   ]
  },
  {
   "cell_type": "code",
   "execution_count": null,
   "metadata": {
    "colab": {
     "base_uri": "https://localhost:8080/",
     "height": 80
    },
    "id": "PJSs0txeM_aM",
    "outputId": "b7fee272-54a1-4e81-c6c7-52b16c98a242"
   },
   "outputs": [],
   "source": [
    "#training linear regression model\n",
    "from sklearn.linear_model import LinearRegression\n",
    "linreg=LinearRegression()\n",
    "#fitting the model i.e it will look for patterns\n",
    "linreg.fit(X_train,y_train)"
   ]
  },
  {
   "cell_type": "code",
   "execution_count": null,
   "metadata": {
    "id": "OYJgp7I9SP8J"
   },
   "outputs": [],
   "source": [
    "#predicting the outputs\n",
    "y_pred_lin=linreg.predict(X_test)"
   ]
  },
  {
   "cell_type": "code",
   "execution_count": null,
   "metadata": {
    "colab": {
     "base_uri": "https://localhost:8080/"
    },
    "id": "BodByWRCSao2",
    "outputId": "88b82ead-7f95-4866-873d-5a30ba07136c"
   },
   "outputs": [],
   "source": [
    "#calculating the metrics of output for Linear Regression\n",
    "from sklearn.metrics import mean_absolute_error, mean_squared_error, r2_score\n",
    "\n",
    "print(\"Regression Metrics - Linear Regression\")\n",
    "\n",
    "# Calculating  regression metrics\n",
    "mae = mean_absolute_error(y_test, y_pred_lin)\n",
    "mse = mean_squared_error(y_test, y_pred_lin)\n",
    "rmse = np.sqrt(mse) # Calculate Root Mean Squared Error\n",
    "r2 = r2_score(y_test, y_pred_lin)\n",
    "\n",
    "#printing the metrics\n",
    "print(f\"Mean Absolute Error (MAE): {mae:.2f}\")\n",
    "print(f\"Mean Squared Error (MSE): {mse:.2f}\")\n",
    "print(f\"Root Mean Squared Error (RMSE): {rmse:.2f}\")\n",
    "print(f\"R-squared (R2): {r2:.2f}\")"
   ]
  },
  {
   "cell_type": "markdown",
   "metadata": {
    "id": "6sEKLU5CHcrQ"
   },
   "source": [
    "Model2:RandomForest"
   ]
  },
  {
   "cell_type": "code",
   "execution_count": null,
   "metadata": {
    "colab": {
     "base_uri": "https://localhost:8080/",
     "height": 80
    },
    "id": "e-UTCfowHhPA",
    "outputId": "a0ff2515-eda8-443d-cc52-397cffab2ca4"
   },
   "outputs": [],
   "source": [
    "from sklearn.ensemble import RandomForestRegressor\n",
    "rf=RandomForestRegressor()\n",
    "#fitting the model\n",
    "rf.fit(X_train,y_train)\n"
   ]
  },
  {
   "cell_type": "code",
   "execution_count": null,
   "metadata": {
    "colab": {
     "base_uri": "https://localhost:8080/"
    },
    "id": "iqf2_DENIDtX",
    "outputId": "4f102e07-7501-44a0-85bc-e0cdbae1660a"
   },
   "outputs": [],
   "source": [
    "##calculating the metrics of output for Random ForestRegressor\n",
    "from sklearn.metrics import mean_absolute_error,mean_squared_error,r2_score\n",
    "import numpy as np\n",
    "\n",
    "y_pred_rf=rf.predict(X_test)\n",
    "print('Regression metrics - RandomForest')\n",
    "mae_rf=mean_absolute_error(y_test,y_pred_rf)\n",
    "mse_rf=mean_squared_error(y_test,y_pred_rf)\n",
    "rmse_rf=np.sqrt(mse_rf)\n",
    "r2_rf=r2_score(y_test,y_pred_rf)\n",
    "print(\"Mean absolute error:\",mae_rf)\n",
    "print(\"Mean squares error:\",mse_rf)\n",
    "print(\"Root mean sqaure:\",rmse_rf)\n",
    "print('r2 score:',r2_rf)"
   ]
  },
  {
   "cell_type": "markdown",
   "metadata": {
    "id": "ws-1kIOLOJ6n"
   },
   "source": [
    "Model3:XGBoost"
   ]
  },
  {
   "cell_type": "code",
   "execution_count": null,
   "metadata": {
    "colab": {
     "base_uri": "https://localhost:8080/",
     "height": 254
    },
    "id": "aMfzRQHbOMNP",
    "outputId": "a079ff38-b35c-4e24-a842-8d746ca03756"
   },
   "outputs": [],
   "source": [
    "from xgboost import XGBRegressor\n",
    "xgb=XGBRegressor()\n",
    "#fitting the XGB model\n",
    "xgb.fit(X_train,y_train)"
   ]
  },
  {
   "cell_type": "code",
   "execution_count": null,
   "metadata": {
    "colab": {
     "base_uri": "https://localhost:8080/"
    },
    "id": "_CEf31YCPW5F",
    "outputId": "da7ea176-0deb-422f-efb1-00074f5d2dc1"
   },
   "outputs": [],
   "source": [
    "##calculating the metrics of output for XGBRegressor\n",
    "from sklearn.metrics import mean_absolute_error,mean_squared_error,r2_score\n",
    "import numpy as np\n",
    "\n",
    "y_pred_xgb=xgb.predict(X_test)\n",
    "print('Regression metrics -XGBoost')\n",
    "mae_xgb=mean_absolute_error(y_test,y_pred_xgb)\n",
    "mse_xgb=mean_squared_error(y_test,y_pred_xgb)\n",
    "rmse_xgb=np.sqrt(mse_xgb)\n",
    "r2_xgb=r2=r2_score(y_test,y_pred_xgb)\n",
    "print(\"Mean absolute error:\",mae_xgb)\n",
    "print('Mean square error:',mse_xgb)\n",
    "print('Root mean sqaure error:',rmse_xgb)\n",
    "print('r2_score:',r2_xgb)"
   ]
  },
  {
   "cell_type": "markdown",
   "metadata": {
    "id": "DL9n-YbtHyS_"
   },
   "source": [
    "Input from user"
   ]
  },
  {
   "cell_type": "code",
   "execution_count": null,
   "metadata": {
    "colab": {
     "base_uri": "https://localhost:8080/",
     "height": 1000,
     "referenced_widgets": [
      "00de3b358cdd47d880a09c57906ccb27",
      "8e631a51c6ce411eb3dc849aabfbd051",
      "f855e3beed374dffbac5d3aedd69061a",
      "db73b2cb583a4164a2567800410bb262",
      "bea3cba8b4f24775a5fba20322814028",
      "7194e9032a4b4ddebde99109886945e7",
      "e4e0f6b72b3e4fe384092c12dcbe7273",
      "b7d27b4a28bb4a3f920334446842eecb",
      "dd93d2290df64427b655f42e1a0c0b93",
      "78c05a1aa7bc43f584855c73ea93e549",
      "0ce7242e43ba4872b7c3cca515aac1b0",
      "f4a56ecdefff40ab87207e58fd4982d5",
      "0ff14a94041648678d845c65a820939d",
      "334cd7d7ef2c434a8c9e1eecf1a4b59b",
      "d6b06a05ac9b4cac885513835c16a4fd",
      "981cb8c123aa4e24a839e28d9699ad55",
      "2928c013719f4f20829092a8f8e3e9d3",
      "0e77378cb62947a294d6d14fe2dcb9ad",
      "400cca69209d4adcb64b5fdf66d1ba8c",
      "2c706a25bfc049bc90707a5d6c0003e4",
      "29f4ab1015bd427ca0e30d1865d667b9",
      "254fb8f14bf94230a106698f154f269d",
      "fca0db9854914b468c25d3697e328ba8",
      "8167aab41c3444e58ba392ceb4779882",
      "bcfd44895a2b428bb615b152c9fb1300",
      "41e470ec40924b578ff3205c194ebf33",
      "d36a978222f848fca3af198b3d98d0a6",
      "3d2c8a806487459488fb588cf3a19110",
      "bcb5aeb4df1d4d48add33e09772a4899",
      "198d31e4402f4a5a87bebc58abae9325",
      "ba1330f1480e4c308696cf53c603965f",
      "a11645ab6ba242e9a845e35990501f60",
      "c4887b2d1904448ca752c839e2ab27ba",
      "b10e6ffbb9d9470cb636a7647e4b5c29",
      "bf64ac238c474c83b62ae0a8e68ee418",
      "294b8406472c4986b431e52b1d6848b9",
      "33e4ed9358a54259b3d19c6e726677b8",
      "0e40b27f3fc740e0a424a37bdd8e6a35",
      "41910e053e4e45c0832cc260a9dba043",
      "355e2932e5e74b84ac62e9ce2409a641",
      "d449f997e84a436fb2691545f6d03998",
      "5b809573bb5f4eff92c7f8c5a980d3e6",
      "7b7f604dc50945258e5373c65ab59e1a",
      "b13d45b5a3184f92a5da075c2c1b28f3",
      "74d74f2338144bbbba189351debcd148",
      "57b1aba6f7a04f609a7e3494b5e89389",
      "53bbd695a70d4cb88149bb94f77388df",
      "b4bde2e5cd8146c4a5a9e3eca4b5afd6",
      "35529992a9134eb1a8bf3f6d28d4c8c1",
      "dc37d7b72e8e46acb0b62202235a55e7",
      "a9be5a095a0d4c32a8310b99fdbbf193",
      "f1abc05ec7e64abcb38390b804ad445a",
      "ccb02620dd704025b1fd976e3c23b676",
      "74fe88351aee4faa8c80e89430d0458b",
      "201cc257b3664544b6360f3c513063d8",
      "107c3c57f1d04155b87f9c4661ac74a3",
      "f26eeb0dd5c542d1961ba102ef361dfa",
      "2e189bda9bfb40dfb7c6e3e85529c50e",
      "6d49f94cb6004f24bfdf1967a71113f5",
      "295ae776fd46445c99af6f2547fce3f8",
      "67f1d4bdbafd4141995322210661e8b3",
      "af07af670a684a2ab8ba5daec62b2991",
      "8107c21892104887b476d642c7315387",
      "d7aa82481e9d4def8cbf12f84685faa3",
      "6057a832ba874321b698ac8e73037343",
      "543b5eb9a02e43a88a82cea833aa3c46",
      "863e949578f34f249442efbd280e10ab",
      "1c1610a157044f51927c66152f45b08a",
      "341e630b07364e24821e0c4ba1345151",
      "85892ff8f7fd4624970cb28a0c92c204",
      "fa60b95632f547a4ae3d84aae476f19e",
      "70468801150249cbad73c093392cf1a7",
      "3e1014b83846411a8bf7eeaa0b141a5f",
      "dbe4dd0bfb074205a07cb8f362c42a72",
      "1666fbfa4d3b4d9cb53c135309d22b61",
      "d6a4e449f9504105a46c247f9c0c0139",
      "393afe8f475c4b0a8e77da46c7b699ac",
      "1b74310cd4cf4f9c90cf347d2f6a9d69",
      "e3680c7e72ca4e16b6268985afc033b6",
      "82df4e8986ba49ebb686dbfd82b29cf1",
      "249fa9afca6343df8a7cbce221f429b0",
      "513824c7dcc7487fa3149e8596b64a86",
      "f1c95462f03d45629c087dc39b3d1666"
     ]
    },
    "id": "hbJZh4xNBqgy",
    "outputId": "94cf8753-5883-4a7e-9f5a-e475572a678b"
   },
   "outputs": [],
   "source": [
    "\n",
    "\n",
    "import ipywidgets as widgets #for sliding option, buttons,dropdowns etc\n",
    "from IPython.display import display, clear_output\n",
    "import pandas as pd\n",
    "import numpy as np\n",
    "import joblib\n",
    "import matplotlib.pyplot as plt\n",
    "import seaborn as sns\n",
    "from sklearn.linear_model import LinearRegression\n",
    "from sklearn.ensemble import RandomForestRegressor\n",
    "from sklearn.metrics import mean_absolute_error, mean_squared_error, r2_score\n",
    "import warnings\n",
    "warnings.filterwarnings('ignore')\n",
    "\n",
    "# Set matplotlib style\n",
    "plt.style.use('seaborn-v0_8')\n",
    "sns.set_palette(\"husl\")\n",
    "\n",
    "# Load the trained model (assuming this is your best model)\n",
    "loaded_model = joblib.load('bill_predictor.pkl')\n",
    "\n",
    "# Create interactive widgets\n",
    "print(\"🏠 Electricity Bill Predictor with Model Comparison\")\n",
    "print(\"=\" * 60)\n",
    "\n",
    "# Appliance widgets (sliders)\n",
    "fans_slider = widgets.IntSlider(\n",
    "    value=3,\n",
    "    min=0,\n",
    "    max=23,\n",
    "    step=1,\n",
    "    description='Fans:',\n",
    "    style={'description_width': 'initial'},\n",
    "    layout=widgets.Layout(width='400px')\n",
    ")\n",
    "\n",
    "refrigerator_slider = widgets.IntSlider(\n",
    "    value=1,\n",
    "    min=0,\n",
    "    max=23,\n",
    "    step=1,\n",
    "    description='Refrigerators:',\n",
    "    style={'description_width': 'initial'},\n",
    "    layout=widgets.Layout(width='400px')\n",
    ")\n",
    "\n",
    "ac_slider = widgets.IntSlider(\n",
    "    value=1,\n",
    "    min=0,\n",
    "    max=3,\n",
    "    step=1,\n",
    "    description='Air Conditioners:',\n",
    "    style={'description_width': 'initial'},\n",
    "    layout=widgets.Layout(width='400px')\n",
    ")\n",
    "\n",
    "tv_slider = widgets.IntSlider(\n",
    "    value=2,\n",
    "    min=0,\n",
    "    max=22,\n",
    "    step=1,\n",
    "    description='Televisions:',\n",
    "    style={'description_width': 'initial'},\n",
    "    layout=widgets.Layout(width='400px')\n",
    ")\n",
    "\n",
    "monitor_slider = widgets.IntSlider(\n",
    "    value=1,\n",
    "    min=0,\n",
    "    max=12,\n",
    "    step=1,\n",
    "    description='Monitors:',\n",
    "    style={'description_width': 'initial'},\n",
    "    layout=widgets.Layout(width='400px')\n",
    ")\n",
    "\n",
    "pump_slider = widgets.IntSlider(\n",
    "    value=1,\n",
    "    min=0,\n",
    "    max=5,\n",
    "    step=1,\n",
    "    description='Motor Pumps:',\n",
    "    style={'description_width': 'initial'},\n",
    "    layout=widgets.Layout(width='400px')\n",
    ")\n",
    "\n",
    "# Usage and billing widgets\n",
    "month_dropdown = widgets.Dropdown(\n",
    "    options=[('January', 1), ('February', 2), ('March', 3), ('April', 4),\n",
    "             ('May', 5), ('June', 6), ('July', 7), ('August', 8),\n",
    "             ('September', 9), ('October', 10), ('November', 11), ('December', 12)],\n",
    "    value=6,\n",
    "    description='Month:',\n",
    "    style={'description_width': 'initial'},\n",
    "    layout=widgets.Layout(width='400px')\n",
    ")\n",
    "\n",
    "hours_slider = widgets.IntSlider(\n",
    "    value=300,\n",
    "    min=50,\n",
    "    max=1000,\n",
    "    step=10,\n",
    "    description='Monthly Hours:',\n",
    "    style={'description_width': 'initial'},\n",
    "    layout=widgets.Layout(width='400px')\n",
    ")\n",
    "\n",
    "tariff_slider = widgets.FloatSlider(\n",
    "    value=6.0,\n",
    "    min=2.0,\n",
    "    max=15.0,\n",
    "    step=0.1,\n",
    "    description='Tariff Rate (₹/kWh):',\n",
    "    style={'description_width': 'initial'},\n",
    "    layout=widgets.Layout(width='400px')\n",
    ")\n",
    "\n",
    "# City dropdown\n",
    "city_dropdown = widgets.Dropdown(\n",
    "    options=['Hyderabad', 'Vadodara', 'Shimla', 'Mumbai', 'Ratnagiri', 'New Delhi',\n",
    "             'Dahej', 'Ahmedabad', 'Noida', 'Nagpur', 'Chennai', 'Faridabad',\n",
    "             'Kolkata', 'Pune', 'Gurgaon', 'Navi Mumbai'],\n",
    "    value='Hyderabad',\n",
    "    description='City:',\n",
    "    style={'description_width': 'initial'},\n",
    "    layout=widgets.Layout(width='400px')\n",
    ")\n",
    "\n",
    "# Company dropdown\n",
    "company_dropdown = widgets.Dropdown(\n",
    "    options=['Tata Power Company Ltd.', 'NHPC', 'Jyoti Structure', 'Power Grid Corp',\n",
    "             'Ratnagiri Gas and Power Pvt. Ltd. (RGPPL)', 'Adani Power Ltd.',\n",
    "             'Kalpataru Power', 'Orient Green', 'Sterlite Power Transmission Ltd',\n",
    "             'Neueon Towers / Sujana Towers Ltd.', 'BESCOM',\n",
    "             'Unitech Power Transmission Ltd.', 'Bonfiglioli Transmission Pvt. Ltd.',\n",
    "             'SJVN Ltd.', 'Maha Transco – Maharashtra State Electricity Transmission Co, Ltd.',\n",
    "             'L&T Transmission & Distribution', 'Guj Ind Power', 'Torrent Power Ltd.',\n",
    "             'KEC International', 'Indowind Energy', 'Reliance Energy',\n",
    "             'GE T&D India Limited', 'NTPC Pvt. Ltd.',\n",
    "             'Optibelt Power Transmission India Private Limited', 'CESC',\n",
    "             'Ringfeder Power Transmission India Pvt. Ltd.', 'Reliance Power',\n",
    "             'JSW Energy Ltd.', 'Sunil Hitech Eng',\n",
    "             'Toshiba Transmission & Distribution Systems (India) Pvt. Ltd.',\n",
    "             'Jaiprakash Power TransRail', 'Lighting'],\n",
    "    value='Tata Power Company Ltd.',\n",
    "    description='Company:',\n",
    "    style={'description_width': 'initial'},\n",
    "    layout=widgets.Layout(width='400px')\n",
    ")\n",
    "\n",
    "# Buttons\n",
    "predict_button = widgets.Button(\n",
    "    description='🔮 Predict Bill',\n",
    "    button_style='success',\n",
    "    layout=widgets.Layout(width='200px', height='40px')\n",
    ")\n",
    "\n",
    "compare_button = widgets.Button(\n",
    "    description='📊 Compare Models',\n",
    "    button_style='info',\n",
    "    layout=widgets.Layout(width='200px', height='40px')\n",
    ")\n",
    "\n",
    "# Output widgets\n",
    "output = widgets.Output()\n",
    "comparison_output = widgets.Output()\n",
    "\n",
    "# City to State mapping\n",
    "city_to_state = {\n",
    "    'Hyderabad': 'Telangana',\n",
    "    'Vadodara': 'Gujarat',\n",
    "    'Shimla': 'Himachal Pradesh',\n",
    "    'Mumbai': 'Maharashtra',\n",
    "    'Ratnagiri': 'Maharashtra',\n",
    "    'New Delhi': 'Delhi',\n",
    "    'Dahej': 'Gujarat',\n",
    "    'Ahmedabad': 'Gujarat',\n",
    "    'Noida': 'Uttar Pradesh',\n",
    "    'Nagpur': 'Maharashtra',\n",
    "    'Chennai': 'Tamil Nadu',\n",
    "    'Faridabad': 'Haryana',\n",
    "    'Kolkata': 'West Bengal',\n",
    "    'Pune': 'Maharashtra',\n",
    "    'Gurgaon': 'Haryana',\n",
    "    'Navi Mumbai': 'Maharashtra'\n",
    "}\n",
    "\n",
    "def prepare_input_data():\n",
    "    \"\"\"Prepare input data for prediction\"\"\"\n",
    "    user_input = {\n",
    "        'Fan': int(fans_slider.value),\n",
    "        'Refrigerator': int(refrigerator_slider.value),\n",
    "        'AirConditioner': int(ac_slider.value),\n",
    "        'Television': int(tv_slider.value),\n",
    "        'Monitor': int(monitor_slider.value),\n",
    "        'MotorPump': int(pump_slider.value),\n",
    "        'Month': int(month_dropdown.value),\n",
    "        'MonthlyHours': int(hours_slider.value),\n",
    "        'TariffRate': float(tariff_slider.value),\n",
    "        'City': city_dropdown.value,\n",
    "        'Company': company_dropdown.value\n",
    "    }\n",
    "\n",
    "    # Convert to DataFrame\n",
    "    input_df = pd.DataFrame([user_input])\n",
    "\n",
    "    # Feature engineering\n",
    "    input_df['TotalAppliances'] = input_df[['Fan', 'Refrigerator', 'AirConditioner',\n",
    "                                           'Television', 'Monitor', 'MotorPump']].sum(axis=1)\n",
    "    input_df['CoolingLoad'] = input_df['Fan'] + input_df['AirConditioner']\n",
    "    input_df['EntertainmentLoad'] = input_df['Television'] + input_df['Monitor']\n",
    "    input_df['EssentialLoad'] = input_df['Refrigerator'] + input_df['MotorPump']\n",
    "    input_df['Month_sin'] = np.sin(2 * np.pi * input_df['Month'] / 12)\n",
    "    input_df['Month_cos'] = np.cos(2 * np.pi * input_df['Month'] / 12)\n",
    "\n",
    "    # Check if X is available\n",
    "    if 'X' not in globals():\n",
    "        raise ValueError(\"Training data 'X' not found in global variables\")\n",
    "\n",
    "    # One-hot encode categorical features\n",
    "    city_columns = [col for col in X.columns if col.startswith('City_')]\n",
    "    company_columns = [col for col in X.columns if col.startswith('Company_')]\n",
    "    state_columns = [col for col in X.columns if col.startswith('State_')]\n",
    "\n",
    "    # Create empty columns for all possible one-hot encoded features\n",
    "    for col in city_columns + company_columns + state_columns:\n",
    "        input_df[col] = 0\n",
    "\n",
    "    # Set appropriate values\n",
    "    city_name = input_df['City'].iloc[0]\n",
    "    company_name = input_df['Company'].iloc[0]\n",
    "\n",
    "    # Set city encoding\n",
    "    city_col = f'City_{city_name}'\n",
    "    if city_col in input_df.columns:\n",
    "        input_df[city_col] = 1\n",
    "\n",
    "    # Set company encoding\n",
    "    company_col = f'Company_{company_name}'\n",
    "    if company_col in input_df.columns:\n",
    "        input_df[company_col] = 1\n",
    "\n",
    "    # Encode state based on city\n",
    "    if city_name in city_to_state:\n",
    "        state = city_to_state[city_name]\n",
    "        state_col = f'State_{state}'\n",
    "        if state_col in input_df.columns:\n",
    "            input_df[state_col] = 1\n",
    "\n",
    "    # Drop original categorical columns\n",
    "    input_df = input_df.drop(['City', 'Company'], axis=1, errors='ignore')\n",
    "\n",
    "    # Add missing columns with value 0\n",
    "    missing_cols = set(X.columns) - set(input_df.columns)\n",
    "    for c in missing_cols:\n",
    "        input_df[c] = 0\n",
    "\n",
    "    # Reorder columns to match training data\n",
    "    input_df = input_df[X.columns]\n",
    "\n",
    "    return input_df, user_input\n",
    "\n",
    "def predict_bill(button):\n",
    "    with output:\n",
    "        clear_output()\n",
    "\n",
    "        try:\n",
    "            input_df, user_input = prepare_input_data()\n",
    "\n",
    "            print(\"📋 Collected Input:\")\n",
    "            for key, value in user_input.items():\n",
    "                print(f\"  {key}: {value}\")\n",
    "            print()\n",
    "\n",
    "            print(\"✅ Feature engineering completed\")\n",
    "            print(f\"📊 Input shape: {input_df.shape}\")\n",
    "\n",
    "            # Make prediction\n",
    "            predicted_bill = loaded_model.predict(input_df)\n",
    "\n",
    "            print(\"\\n🎯 PREDICTION RESULT\")\n",
    "            print(\"=\" * 30)\n",
    "            print(f\"💰 Predicted Electricity Bill: ₹{predicted_bill[0]:.2f}\")\n",
    "            print(\"\\n📊 INPUT SUMMARY:\")\n",
    "            print(f\"📍 Location: {user_input['City']}, {city_to_state.get(user_input['City'], 'Unknown')}\")\n",
    "            print(f\"🏢 Company: {user_input['Company']}\")\n",
    "\n",
    "            # Safe reverse lookup to get the month name\n",
    "            month_label = next((k for k, v in month_dropdown.options if v == month_dropdown.value), \"Unknown\")\n",
    "            print(f\"📅 Month: {month_label}\")\n",
    "\n",
    "            print(f\"⏰ Monthly Hours: {hours_slider.value}\")\n",
    "            print(f\"💡 Tariff Rate: ₹{tariff_slider.value}/kWh\")\n",
    "            print(f\"🏠 Total Appliances: {int(input_df['TotalAppliances'].iloc[0])}\")\n",
    "\n",
    "        except Exception as e:\n",
    "            print(f\"❌ Error making prediction: {str(e)}\")\n",
    "            print(f\"Error type: {type(e).__name__}\")\n",
    "            import traceback\n",
    "            print(\"Full traceback:\")\n",
    "            traceback.print_exc()\n",
    "\n",
    "def compare_models(button):\n",
    "    with comparison_output:\n",
    "        clear_output()\n",
    "\n",
    "        try:\n",
    "            # Check if training data is available\n",
    "            if 'X' not in globals() or 'y' not in globals():\n",
    "                print(\"❌ Error: Training data 'X' and 'y' not found in global variables\")\n",
    "                print(\"Please make sure you have run the training code and both 'X' and 'y' are available\")\n",
    "                return\n",
    "\n",
    "            print(\"🔄 Training multiple models for comparison...\")\n",
    "            print(\"This may take a few moments...\")\n",
    "\n",
    "            # Prepare current input\n",
    "            input_df, user_input = prepare_input_data()\n",
    "\n",
    "            # Split data for model evaluation (assuming you have train_test_split done)\n",
    "            from sklearn.model_selection import train_test_split\n",
    "            X_train, X_test, y_train, y_test = train_test_split(X, y, test_size=0.2, random_state=42)\n",
    "\n",
    "            # Initialize models\n",
    "            models = {\n",
    "                'Linear Regression': LinearRegression(),\n",
    "                'Random Forest': RandomForestRegressor(n_estimators=100, random_state=42),\n",
    "                'XGBoost': None  # Will be initialized if xgboost is available\n",
    "            }\n",
    "\n",
    "            # Try to import XGBoost\n",
    "            try:\n",
    "                import xgboost as xgb\n",
    "                models['XGBoost'] = xgb.XGBRegressor(n_estimators=100, random_state=42)\n",
    "            except ImportError:\n",
    "                print(\"⚠️ XGBoost not available. Using Random Forest instead.\")\n",
    "                models['XGBoost (RF)'] = RandomForestRegressor(n_estimators=150, random_state=42)\n",
    "\n",
    "            # Train models and collect results\n",
    "            results = {}\n",
    "            predictions_current = {}\n",
    "\n",
    "            for name, model in models.items():\n",
    "                if model is not None:\n",
    "                    print(f\"Training {name}...\")\n",
    "                    model.fit(X_train, y_train)\n",
    "                    y_pred = model.predict(X_test)\n",
    "\n",
    "                    # Calculate metrics\n",
    "                    mae = mean_absolute_error(y_test, y_pred)\n",
    "                    mse = mean_squared_error(y_test, y_pred)\n",
    "                    rmse = np.sqrt(mse)\n",
    "                    r2 = r2_score(y_test, y_pred)\n",
    "\n",
    "                    results[name] = {\n",
    "                        'MAE': mae,\n",
    "                        'MSE': mse,\n",
    "                        'RMSE': rmse,\n",
    "                        'R²': r2\n",
    "                    }\n",
    "\n",
    "                    # Predict for current input\n",
    "                    predictions_current[name] = model.predict(input_df)[0]\n",
    "\n",
    "            # Create visualizations\n",
    "            fig, axes = plt.subplots(2, 2, figsize=(15, 12))\n",
    "            fig.suptitle('Model Performance Comparison', fontsize=16, fontweight='bold')\n",
    "\n",
    "            # 1. Model Performance Metrics\n",
    "            metrics_df = pd.DataFrame(results).T\n",
    "\n",
    "            # MAE Comparison\n",
    "            axes[0, 0].bar(metrics_df.index, metrics_df['MAE'], color=['#FF6B6B', '#4ECDC4', '#45B7D1'])\n",
    "            axes[0, 0].set_title('Mean Absolute Error (MAE)', fontweight='bold')\n",
    "            axes[0, 0].set_ylabel('MAE')\n",
    "            axes[0, 0].tick_params(axis='x', rotation=45)\n",
    "            for i, v in enumerate(metrics_df['MAE']):\n",
    "                axes[0, 0].text(i, v + max(metrics_df['MAE']) * 0.01, f'{v:.2f}', ha='center')\n",
    "\n",
    "            # R² Score Comparison\n",
    "            axes[0, 1].bar(metrics_df.index, metrics_df['R²'], color=['#FF6B6B', '#4ECDC4', '#45B7D1'])\n",
    "            axes[0, 1].set_title('R² Score (Higher is Better)', fontweight='bold')\n",
    "            axes[0, 1].set_ylabel('R² Score')\n",
    "            axes[0, 1].tick_params(axis='x', rotation=45)\n",
    "            for i, v in enumerate(metrics_df['R²']):\n",
    "                axes[0, 1].text(i, v + max(metrics_df['R²']) * 0.01, f'{v:.3f}', ha='center')\n",
    "\n",
    "            # Current Input Predictions\n",
    "            pred_df = pd.DataFrame(list(predictions_current.items()), columns=['Model', 'Prediction'])\n",
    "            bars = axes[1, 0].bar(pred_df['Model'], pred_df['Prediction'], color=['#FF6B6B', '#4ECDC4', '#45B7D1'])\n",
    "            axes[1, 0].set_title('Predictions for Current Input', fontweight='bold')\n",
    "            axes[1, 0].set_ylabel('Predicted Bill (₹)')\n",
    "            axes[1, 0].tick_params(axis='x', rotation=45)\n",
    "            for i, v in enumerate(pred_df['Prediction']):\n",
    "                axes[1, 0].text(i, v + max(pred_df['Prediction']) * 0.01, f'₹{v:.2f}', ha='center')\n",
    "\n",
    "            # RMSE Comparison\n",
    "            axes[1, 1].bar(metrics_df.index, metrics_df['RMSE'], color=['#FF6B6B', '#4ECDC4', '#45B7D1'])\n",
    "            axes[1, 1].set_title('Root Mean Square Error (RMSE)', fontweight='bold')\n",
    "            axes[1, 1].set_ylabel('RMSE')\n",
    "            axes[1, 1].tick_params(axis='x', rotation=45)\n",
    "            for i, v in enumerate(metrics_df['RMSE']):\n",
    "                axes[1, 1].text(i, v + max(metrics_df['RMSE']) * 0.01, f'{v:.2f}', ha='center')\n",
    "\n",
    "            plt.tight_layout()\n",
    "            plt.show()\n",
    "\n",
    "            # Display detailed results\n",
    "            print(\"\\n📊 DETAILED MODEL COMPARISON\")\n",
    "            print(\"=\" * 50)\n",
    "\n",
    "            for name, metrics in results.items():\n",
    "                print(f\"\\n🔸 {name}:\")\n",
    "                print(f\"   MAE:  {metrics['MAE']:.2f}\")\n",
    "                print(f\"   RMSE: {metrics['RMSE']:.2f}\")\n",
    "                print(f\"   R²:   {metrics['R²']:.3f}\")\n",
    "                print(f\"   Current Prediction: ₹{predictions_current[name]:.2f}\")\n",
    "\n",
    "            # Find best model\n",
    "            best_model_r2 = max(results.items(), key=lambda x: x[1]['R²'])\n",
    "            best_model_mae = min(results.items(), key=lambda x: x[1]['MAE'])\n",
    "\n",
    "            print(f\"\\n🏆 BEST PERFORMERS:\")\n",
    "            print(f\"   Highest R² Score: {best_model_r2[0]} ({best_model_r2[1]['R²']:.3f})\")\n",
    "            print(f\"   Lowest MAE: {best_model_mae[0]} ({best_model_mae[1]['MAE']:.2f})\")\n",
    "\n",
    "            # Show current input summary\n",
    "            print(f\"\\n📋 CURRENT INPUT SUMMARY:\")\n",
    "            month_label = next((k for k, v in month_dropdown.options if v == month_dropdown.value), \"Unknown\")\n",
    "            print(f\"   📍 Location: {user_input['City']}, {city_to_state.get(user_input['City'], 'Unknown')}\")\n",
    "            print(f\"   📅 Month: {month_label}\")\n",
    "            print(f\"   🏠 Total Appliances: {sum([user_input['Fan'], user_input['Refrigerator'], user_input['AirConditioner'], user_input['Television'], user_input['Monitor'], user_input['MotorPump']])}\")\n",
    "            print(f\"   ⏰ Monthly Hours: {user_input['MonthlyHours']}\")\n",
    "            print(f\"   💡 Tariff Rate: ₹{user_input['TariffRate']}/kWh\")\n",
    "\n",
    "        except Exception as e:\n",
    "            print(f\"❌ Error in model comparison: {str(e)}\")\n",
    "            print(f\"Error type: {type(e).__name__}\")\n",
    "            import traceback\n",
    "            traceback.print_exc()\n",
    "\n",
    "# Connect buttons to functions\n",
    "predict_button.on_click(predict_bill)\n",
    "compare_button.on_click(compare_models)\n",
    "\n",
    "# Create layout\n",
    "appliance_section = widgets.VBox([\n",
    "    widgets.HTML(\"<h3>🏠 Home Appliances</h3>\"),\n",
    "    fans_slider,\n",
    "    refrigerator_slider,\n",
    "    ac_slider,\n",
    "    tv_slider,\n",
    "    monitor_slider,\n",
    "    pump_slider\n",
    "])\n",
    "\n",
    "usage_section = widgets.VBox([\n",
    "    widgets.HTML(\"<h3>📊 Usage & Billing Details</h3>\"),\n",
    "    month_dropdown,\n",
    "    hours_slider,\n",
    "    tariff_slider\n",
    "])\n",
    "\n",
    "location_section = widgets.VBox([\n",
    "    widgets.HTML(\"<h3>📍 Location & Company</h3>\"),\n",
    "    city_dropdown,\n",
    "    company_dropdown\n",
    "])\n",
    "\n",
    "button_section = widgets.HBox([\n",
    "    predict_button,\n",
    "    compare_button\n",
    "], layout=widgets.Layout(justify_content='center'))\n",
    "\n",
    "main_interface = widgets.VBox([\n",
    "    widgets.HTML(\"<h1 style='text-align: center; color: #2E86AB;'>⚡ Electricity Bill Predictor</h1>\"),\n",
    "    widgets.HTML(\"<hr>\"),\n",
    "    appliance_section,\n",
    "    widgets.HTML(\"<br>\"),\n",
    "    usage_section,\n",
    "    widgets.HTML(\"<br>\"),\n",
    "    location_section,\n",
    "    widgets.HTML(\"<br>\"),\n",
    "    button_section,\n",
    "    widgets.HTML(\"<br>\"),\n",
    "    output,\n",
    "    widgets.HTML(\"<br>\"),\n",
    "    comparison_output\n",
    "])\n",
    "\n",
    "# Display the interface\n",
    "display(main_interface)\n",
    "\n",
    "# Instructions\n",
    "print(\"\\n\" + \"=\"*60)\n",
    "print(\"📋 INSTRUCTIONS:\")\n",
    "print(\"1. Adjust the sliders to set the number of appliances\")\n",
    "print(\"2. Select your city and electricity company from dropdowns\")\n",
    "print(\"3. Set the month and usage hours\")\n",
    "print(\"4. Adjust the tariff rate\")\n",
    "print(\"5. Click 'Predict Bill' to get your estimate\")\n",
    "print(\"6. Click 'Compare Models' to see performance comparison\")\n",
    "print(\"=\"*60)\n"
   ]
  },
  {
   "cell_type": "markdown",
   "metadata": {
    "id": "TOMj_IAMMMAD"
   },
   "source": []
  }
 ],
 "metadata": {
  "colab": {
   "provenance": []
  },
  "kernelspec": {
   "display_name": "Python 3",
   "name": "python3"
  },
  "language_info": {
   "name": "python"
  }
 },
 "nbformat": 4,
 "nbformat_minor": 0
}
